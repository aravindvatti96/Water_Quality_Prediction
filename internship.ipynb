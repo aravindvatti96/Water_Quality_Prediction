{
 "cells": [
  {
   "cell_type": "code",
   "execution_count": null,
   "id": "034f1ecc",
   "metadata": {},
   "outputs": [],
   "source": [
    "import streamlit as st\n",
    "import pandas as pd\n",
    "import numpy as np\n",
    "import matplotlib.pyplot as plt\n",
    "import seaborn as sns"
   ]
  },
  {
   "cell_type": "code",
   "execution_count": null,
   "id": "08865b7b",
   "metadata": {},
   "outputs": [],
   "source": [
    "from sklearn.model_selection import train_test_split\n",
    "from sklearn.ensemble import RandomForestRegressor\n",
    "from sklearn.multioutput import MultiOutputRegressor\n",
    "from sklearn.metrics import mean_squared_error, r2_score\n",
    "from datetime import datetime"
   ]
  },
  {
   "cell_type": "markdown",
   "id": "533938e3",
   "metadata": {},
   "source": [
    "## 📄 Step 1: Load and Prepare Dataset\n",
    "\n",
    "We load a CSV file containing water quality data from 2000 to 2021.\n",
    "We convert the date column to a proper datetime format, sort the values, and generate useful time-based features."
   ]
  },
  {
   "cell_type": "code",
   "execution_count": null,
   "id": "1444f898",
   "metadata": {},
   "outputs": [],
   "source": [
    "# Load and prepare dataset\n",
    "df = pd.read_csv('PB_All_2000_2021.csv', sep=';')\n",
    "df['date'] = pd.to_datetime(df['date'], format='%d.%m.%Y')\n",
    "df = df.sort_values(by=['id', 'date'])"
   ]
  },
  {
   "cell_type": "code",
   "execution_count": null,
   "id": "1c1e0cc0",
   "metadata": {},
   "outputs": [],
   "source": [
    "# Feature engineering\n",
    "df['year'] = df['date'].dt.year\n",
    "df['month'] = df['date'].dt.month\n",
    "df['dayofyear'] = df['date'].dt.dayofyear\n",
    "df['weekofyear'] = df['date'].dt.isocalendar().week\n",
    "df = df.ffill()"
   ]
  },
  {
   "cell_type": "markdown",
   "id": "2b138904",
   "metadata": {},
   "source": [
    "## 🧪 Step 2: Select Features and Target Variables\n",
    "\n",
    "We define the independent variables (`features`) and the outputs we want to predict (`targets`)."
   ]
  },
  {
   "cell_type": "code",
   "execution_count": null,
   "id": "77f37dc3",
   "metadata": {},
   "outputs": [],
   "source": [
    "features = ['id', 'NH4', 'BSK5', 'Suspended', 'year', 'month', 'dayofyear', 'weekofyear']\n",
    "targets = ['O2', 'NO3', 'NO2', 'SO4', 'PO4', 'CL']\n",
    "df = df.dropna(subset=features + targets)"
   ]
  },
  {
   "cell_type": "code",
   "execution_count": null,
   "id": "e53af3c2",
   "metadata": {},
   "outputs": [],
   "source": [
    "X = df[features]\n",
    "y = df[targets]"
   ]
  },
  {
   "cell_type": "markdown",
   "id": "cce94ebd",
   "metadata": {},
   "source": [
    "## 🧠 Step 3: Model Training\n",
    "\n",
    "We use a Random Forest Regressor within a MultiOutputRegressor to predict multiple water quality parameters."
   ]
  },
  {
   "cell_type": "code",
   "execution_count": null,
   "id": "97363660",
   "metadata": {},
   "outputs": [],
   "source": [
    "# Model training\n",
    "X_train, X_test, y_train, y_test = train_test_split(X, y, test_size=0.2, random_state=42)\n",
    "model = MultiOutputRegressor(RandomForestRegressor(n_estimators=100, random_state=42))\n",
    "model.fit(X_train, y_train)\n",
    "y_pred = model.predict(X_test)"
   ]
  },
  {
   "cell_type": "code",
   "execution_count": null,
   "id": "9f61cf49",
   "metadata": {},
   "outputs": [],
   "source": [
    "# Streamlit UI\n",
    "st.set_page_config(page_title=\"Water Quality Prediction\", layout=\"wide\")\n",
    "st.title(\"🌊 Water Quality Prediction Dashboard\")"
   ]
  },
  {
   "cell_type": "code",
   "execution_count": null,
   "id": "f7c5e53b",
   "metadata": {},
   "outputs": [],
   "source": [
    "# Dataset Preview\n",
    "st.subheader(\"📋 Dataset Preview\")\n",
    "st.dataframe(df.head(50))"
   ]
  },
  {
   "cell_type": "markdown",
   "id": "621636e5",
   "metadata": {},
   "source": [
    "## 📈 Step 4: Model Evaluation\n",
    "\n",
    "We compute the Mean Squared Error (MSE) and R² Score to evaluate the model."
   ]
  },
  {
   "cell_type": "code",
   "execution_count": null,
   "id": "edce1270",
   "metadata": {},
   "outputs": [],
   "source": [
    "# Evaluation Metrics\n",
    "st.subheader(\"📈 Model Performance\")\n",
    "mse = mean_squared_error(y_test, y_pred)\n",
    "r2 = r2_score(y_test, y_pred)\n",
    "st.write(f\"**Mean Squared Error:** {mse:.2f}\")\n",
    "st.write(f\"**R² Score (Overall):** {r2:.4f}\")"
   ]
  },
  {
   "cell_type": "code",
   "execution_count": null,
   "id": "c3aff079",
   "metadata": {},
   "outputs": [],
   "source": [
    "for i, col in enumerate(targets):\n",
    "    st.write(f\"- {col}: R² = {r2_score(y_test[col], y_pred[:, i]):.4f}\")"
   ]
  },
  {
   "cell_type": "markdown",
   "id": "2aaacfd0",
   "metadata": {},
   "source": [
    "## 📊 Step 5: Feature Importance\n",
    "\n",
    "We show which features contributed most to the prediction of the first target (O₂) using a bar chart."
   ]
  },
  {
   "cell_type": "code",
   "execution_count": null,
   "id": "991da664",
   "metadata": {},
   "outputs": [],
   "source": [
    "# Feature Importance\n",
    "st.subheader(\"🔍 Feature Importance (based on O2)\")\n",
    "importances = model.estimators_[0].feature_importances_\n",
    "feat_imp = pd.Series(importances, index=X.columns).sort_values(ascending=False)"
   ]
  },
  {
   "cell_type": "code",
   "execution_count": null,
   "id": "0f6df11e",
   "metadata": {},
   "outputs": [],
   "source": [
    "fig, ax = plt.subplots(figsize=(4, 2))\n",
    "sns.barplot(x=feat_imp, y=feat_imp.index, ax=ax)\n",
    "st.pyplot(fig)"
   ]
  },
  {
   "cell_type": "code",
   "execution_count": null,
   "id": "008363c1",
   "metadata": {},
   "outputs": [],
   "source": [
    "# Custom Prediction Input\n",
    "st.subheader(\"🧪 Predict Water Quality From Custom Input\")"
   ]
  },
  {
   "cell_type": "code",
   "execution_count": null,
   "id": "f9f6d0b7",
   "metadata": {},
   "outputs": [],
   "source": [
    "col1, col2 = st.columns(2)\n",
    "with col1:\n",
    "    id_val = st.number_input(\"Location ID\", 1, 22, value=1)\n",
    "    nh4 = st.number_input(\"NH4\", value=0.5)\n",
    "    bsk5 = st.number_input(\"BSK5\", value=3.0)\n",
    "    suspended = st.number_input(\"Suspended Solids\", value=10.0)\n",
    "with col2:\n",
    "    year = st.number_input(\"Year\", min_value=2000, max_value=2025, value=2024)\n",
    "    month = st.slider(\"Month\", 1, 12, 6)"
   ]
  },
  {
   "cell_type": "code",
   "execution_count": null,
   "id": "0597d238",
   "metadata": {},
   "outputs": [],
   "source": [
    "# Calculate derived features\n",
    "sample_date = datetime(year, month, 15)\n",
    "dayofyear = sample_date.timetuple().tm_yday\n",
    "weekofyear = sample_date.isocalendar().week"
   ]
  },
  {
   "cell_type": "markdown",
   "id": "b5f34735",
   "metadata": {},
   "source": [
    "## 🔮 Step 6: Custom Prediction from New Input\n",
    "\n",
    "Here you can manually enter values for a new sample and get predicted water quality parameters."
   ]
  },
  {
   "cell_type": "code",
   "execution_count": null,
   "id": "9d8ece12",
   "metadata": {},
   "outputs": [],
   "source": [
    "# Make prediction on input\n",
    "if st.button(\"🔮 Predict Water Quality\"):\n",
    "    input_data = pd.DataFrame([[id_val, nh4, bsk5, suspended, year, month, dayofyear, weekofyear]], columns=features)\n",
    "    prediction = model.predict(input_data)[0]\n",
    "    result_df = pd.DataFrame([prediction], columns=targets)\n",
    "    st.write(\"### 🎯 Prediction Result\")\n",
    "    st.dataframe(result_df.style.format(\"{:.2f}\"))"
   ]
  }
 ],
 "metadata": {
  "jupytext": {
   "cell_metadata_filter": "-all",
   "main_language": "python",
   "notebook_metadata_filter": "-all"
  },
  "language_info": {
   "name": "python"
  }
 },
 "nbformat": 4,
 "nbformat_minor": 5
}
