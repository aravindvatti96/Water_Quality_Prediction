{
 "cells": [
  {
   "cell_type": "markdown",
   "id": "dae16613",
   "metadata": {},
   "source": [
    "Loads all necessary libraries for data manipulation (pandas, numpy), visualization (matplotlib, seaborn), modeling (sklearn), model saving (joblib), and date handling (datetime)."
   ]
  },
  {
   "cell_type": "code",
   "execution_count": null,
   "id": "7e2bcd8f",
   "metadata": {},
   "outputs": [],
   "source": [
    "import pandas as pd\n",
    "import numpy as np\n",
    "import matplotlib.pyplot as plt\n",
    "import seaborn as sns\n",
    "import joblib\n",
    "\n",
    "from sklearn.model_selection import train_test_split\n",
    "from sklearn.ensemble import RandomForestRegressor\n",
    "from sklearn.multioutput import MultiOutputRegressor\n",
    "from sklearn.metrics import mean_squared_error, r2_score\n",
    "from datetime import datetime\n"
   ]
  },
  {
   "cell_type": "markdown",
   "id": "8a9145b4",
   "metadata": {},
   "source": [
    "Loads the water quality dataset.\n",
    "\n",
    "Converts the date column to datetime format.\n",
    "\n",
    "Sorts the data chronologically by station id and date."
   ]
  },
  {
   "cell_type": "code",
   "execution_count": null,
   "id": "cc3c5055",
   "metadata": {},
   "outputs": [],
   "source": [
    "df = pd.read_csv('PB_All_2000_2021.csv', sep=';')\n",
    "df['date'] = pd.to_datetime(df['date'], format='%d.%m.%Y')\n",
    "df = df.sort_values(by=['id', 'date'])\n"
   ]
  },
  {
   "cell_type": "markdown",
   "id": "504ae0ed",
   "metadata": {},
   "source": [
    "Creates new time-related features that can help with prediction (like year, month, week, etc.).\n",
    "\n",
    "Uses forward fill (ffill) to handle any missing values in the dataset."
   ]
  },
  {
   "cell_type": "code",
   "execution_count": null,
   "id": "a7f5731c",
   "metadata": {},
   "outputs": [],
   "source": [
    "df['year'] = df['date'].dt.year\n",
    "df['month'] = df['date'].dt.month\n",
    "df['dayofyear'] = df['date'].dt.dayofyear\n",
    "df['weekofyear'] = df['date'].dt.isocalendar().week\n",
    "df = df.ffill()\n"
   ]
  },
  {
   "cell_type": "markdown",
   "id": "db8bfe0f",
   "metadata": {},
   "source": [
    "Defines:\n",
    "\n",
    "features: independent input variables.\n",
    "\n",
    "targets: pollutant levels (what we want to predict).\n",
    "\n",
    "Drops rows where any of the features or targets are missing.\n",
    "\n",
    "Splits the dataset into X (inputs) and y (outputs)."
   ]
  },
  {
   "cell_type": "code",
   "execution_count": null,
   "id": "d88d26a0",
   "metadata": {},
   "outputs": [],
   "source": [
    "features = ['id', 'NH4', 'BSK5', 'Suspended', 'year', 'month', 'dayofyear', 'weekofyear']\n",
    "targets = ['O2', 'NO3', 'NO2', 'SO4', 'PO4', 'CL']\n",
    "df = df.dropna(subset=features + targets)\n",
    "X = df[features]\n",
    "y = df[targets]\n"
   ]
  },
  {
   "cell_type": "markdown",
   "id": "b7fb696e",
   "metadata": {},
   "source": [
    "Splits the data into training and testing sets (80% train, 20% test).\n",
    "\n",
    "Trains a MultiOutput Random Forest model to predict multiple pollutants at once.\n",
    "\n",
    "y_pred contains the predictions on the test set."
   ]
  },
  {
   "cell_type": "code",
   "execution_count": null,
   "id": "50e2c0d8",
   "metadata": {},
   "outputs": [],
   "source": [
    "X_train, X_test, y_train, y_test = train_test_split(X, y, test_size=0.2, random_state=42)\n",
    "model = MultiOutputRegressor(RandomForestRegressor(n_estimators=100, random_state=42))\n",
    "model.fit(X_train, y_train)\n",
    "y_pred = model.predict(X_test)\n"
   ]
  },
  {
   "cell_type": "markdown",
   "id": "ddd964b5",
   "metadata": {},
   "source": [
    "Calculates overall Mean Squared Error (MSE) and R² score to measure accuracy.\n",
    "\n",
    "Also prints individual R² scores for each pollutant (O2, NO3, etc.)."
   ]
  },
  {
   "cell_type": "code",
   "execution_count": null,
   "id": "583a9e06",
   "metadata": {},
   "outputs": [],
   "source": [
    "mse = mean_squared_error(y_test, y_pred)\n",
    "r2 = r2_score(y_test, y_pred)\n",
    "print(f\"Mean Squared Error: {mse:.2f}\")\n",
    "print(f\"R² Score (Overall): {r2:.4f}\")\n",
    "for i, col in enumerate(targets):\n",
    "    print(f\"- {col}: R² = {r2_score(y_test[col], y_pred[:, i]):.4f}\")\n"
   ]
  },
  {
   "cell_type": "markdown",
   "id": "46048ab5",
   "metadata": {},
   "source": [
    "Visualizes feature importance for the first target variable (O2).\n",
    "\n",
    "Helps understand which inputs (e.g., NH4, month, year) most influence the prediction."
   ]
  },
  {
   "cell_type": "code",
   "execution_count": null,
   "id": "550b6c6b",
   "metadata": {},
   "outputs": [],
   "source": [
    "importances = model.estimators_[0].feature_importances_\n",
    "feat_imp = pd.Series(importances, index=X.columns).sort_values(ascending=False)\n",
    "plt.figure(figsize=(8, 4))\n",
    "sns.barplot(x=feat_imp.values, y=feat_imp.index)\n",
    "plt.title(\"Feature Importance for O2 Prediction\")\n",
    "plt.xlabel(\"Importance Score\")\n",
    "plt.ylabel(\"Features\")\n",
    "plt.tight_layout()\n",
    "plt.show()\n"
   ]
  },
  {
   "cell_type": "markdown",
   "id": "7f46f876",
   "metadata": {},
   "source": [
    "Creates a hypothetical input row (station 22 in 2024) and predicts pollutant levels for that location and time."
   ]
  },
  {
   "cell_type": "code",
   "execution_count": null,
   "id": "9ef3fc94",
   "metadata": {},
   "outputs": [],
   "source": [
    "station_id = 22\n",
    "year_input = 2024\n",
    "month_input = 6\n",
    "sample_date = datetime(year_input, month_input, 15)\n",
    "dayofyear = sample_date.timetuple().tm_yday\n",
    "weekofyear = sample_date.isocalendar().week\n",
    "input_data = pd.DataFrame([[station_id, 0.5, 3.0, 10.0, year_input, month_input, dayofyear, weekofyear]],\n",
    "                          columns=features)\n",
    "predicted_pollutants = model.predict(input_data)[0]\n",
    "print(f\"\\nPredicted pollutant levels for station '{station_id}' in {year_input}:\")\n",
    "for p, val in zip(targets, predicted_pollutants):\n",
    "    print(f\"  {p}: {val:.2f}\")\n"
   ]
  },
  {
   "cell_type": "markdown",
   "id": "16dbc1ba",
   "metadata": {},
   "source": [
    "Saves the trained model and its input column structure for future use — helpful when deploying or reusing the model.\n",
    "\n"
   ]
  },
  {
   "cell_type": "code",
   "execution_count": null,
   "id": "2b3cd2ea",
   "metadata": {},
   "outputs": [],
   "source": [
    "joblib.dump(model, 'pollution_model.pkl')\n",
    "joblib.dump(X.columns.tolist(), 'model_columns.pkl')\n",
    "print('\\nModel and column structure saved successfully!')\n"
   ]
  },
  {
   "cell_type": "markdown",
   "id": "c1b71292",
   "metadata": {},
   "source": [
    "Allows prediction for any custom user input (e.g., a different location, month, etc.).\n",
    "\n",
    "Displays predicted pollutant levels for that custom scenario."
   ]
  },
  {
   "cell_type": "code",
   "execution_count": null,
   "id": "cdf1f11f",
   "metadata": {},
   "outputs": [],
   "source": [
    "custom_input = {\n",
    "    'id': 1,\n",
    "    'NH4': 0.6,\n",
    "    'BSK5': 3.5,\n",
    "    'Suspended': 15.0,\n",
    "    'year': 2025,\n",
    "    'month': 5\n",
    "}\n",
    "sample_date = datetime(custom_input['year'], custom_input['month'], 15)\n",
    "custom_input['dayofyear'] = sample_date.timetuple().tm_yday\n",
    "custom_input['weekofyear'] = sample_date.isocalendar().week\n",
    "input_df = pd.DataFrame([custom_input])[features]\n",
    "prediction = model.predict(input_df)[0]\n",
    "custom_result = pd.DataFrame([prediction], columns=targets)\n",
    "print(\"\\nCustom Prediction Result:\")\n",
    "print(custom_result.round(2))\n"
   ]
  }
 ],
 "metadata": {
  "language_info": {
   "name": "python"
  }
 },
 "nbformat": 4,
 "nbformat_minor": 5
}
